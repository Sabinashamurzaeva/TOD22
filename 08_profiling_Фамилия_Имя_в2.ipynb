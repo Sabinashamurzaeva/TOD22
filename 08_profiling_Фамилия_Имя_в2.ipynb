{
 "cells": [
  {
   "cell_type": "markdown",
   "metadata": {},
   "source": [
    "## Оптимизация выполнения кода, векторизация, Numba"
   ]
  },
  {
   "cell_type": "markdown",
   "metadata": {},
   "source": [
    "Материалы:\n",
    "* Макрушин С.В. Лекция 3: Оптимизация выполнения кода, векторизация, Numba\n",
    "* IPython Cookbook, Second Edition (2018), глава 4\n",
    "* https://numba.pydata.org/numba-doc/latest/user/5minguide.html"
   ]
  },
  {
   "cell_type": "code",
   "execution_count": 29,
   "metadata": {},
   "outputs": [],
   "source": [
    "import numpy as np\n",
    "import pandas as pd\n",
    "import random\n",
    "import string"
   ]
  },
  {
   "cell_type": "markdown",
   "metadata": {},
   "source": [
    "## Задачи для совместного разбора"
   ]
  },
  {
   "cell_type": "markdown",
   "metadata": {},
   "source": [
    "1. Сгенерируйте массив `A` из `N=1млн` случайных целых чисел на отрезке от 0 до 1000. Пусть `B[i] = A[i] + 100`. Посчитайте среднее значение массива `B`."
   ]
  },
  {
   "cell_type": "code",
   "execution_count": 30,
   "metadata": {},
   "outputs": [
    {
     "name": "stdout",
     "output_type": "stream",
     "text": [
      "Среднее значение массива B:  600.299318\n"
     ]
    }
   ],
   "source": [
    "import random\n",
    "\n",
    "N = 1000000\n",
    "A = [random.randint(0, 1000) for i in range(N)]\n",
    "B = [a + 100 for a in A]\n",
    "\n",
    "average_B = sum(B) / len(B)\n",
    "print(\"Среднее значение массива B: \", average_B)\n"
   ]
  },
  {
   "cell_type": "markdown",
   "metadata": {},
   "source": [
    "2. Создайте таблицу 2млн строк и с 4 столбцами, заполненными случайными числами. Добавьте столбец `key`, которые содержит элементы из множества английских букв. Выберите из таблицы подмножество строк, для которых в столбце `key` указаны первые 5 английских букв."
   ]
  },
  {
   "cell_type": "code",
   "execution_count": 31,
   "metadata": {},
   "outputs": [
    {
     "data": {
      "text/html": [
       "<div>\n",
       "<style scoped>\n",
       "    .dataframe tbody tr th:only-of-type {\n",
       "        vertical-align: middle;\n",
       "    }\n",
       "\n",
       "    .dataframe tbody tr th {\n",
       "        vertical-align: top;\n",
       "    }\n",
       "\n",
       "    .dataframe thead th {\n",
       "        text-align: right;\n",
       "    }\n",
       "</style>\n",
       "<table border=\"1\" class=\"dataframe\">\n",
       "  <thead>\n",
       "    <tr style=\"text-align: right;\">\n",
       "      <th></th>\n",
       "      <th>0</th>\n",
       "      <th>1</th>\n",
       "      <th>2</th>\n",
       "      <th>3</th>\n",
       "    </tr>\n",
       "  </thead>\n",
       "  <tbody>\n",
       "    <tr>\n",
       "      <th>UGjhR</th>\n",
       "      <td>437</td>\n",
       "      <td>270</td>\n",
       "      <td>647</td>\n",
       "      <td>870</td>\n",
       "    </tr>\n",
       "    <tr>\n",
       "      <th>KEbwV</th>\n",
       "      <td>810</td>\n",
       "      <td>997</td>\n",
       "      <td>477</td>\n",
       "      <td>91</td>\n",
       "    </tr>\n",
       "    <tr>\n",
       "      <th>VpcXR</th>\n",
       "      <td>904</td>\n",
       "      <td>621</td>\n",
       "      <td>683</td>\n",
       "      <td>258</td>\n",
       "    </tr>\n",
       "    <tr>\n",
       "      <th>fwCKs</th>\n",
       "      <td>859</td>\n",
       "      <td>598</td>\n",
       "      <td>593</td>\n",
       "      <td>578</td>\n",
       "    </tr>\n",
       "    <tr>\n",
       "      <th>wbuOM</th>\n",
       "      <td>512</td>\n",
       "      <td>677</td>\n",
       "      <td>197</td>\n",
       "      <td>505</td>\n",
       "    </tr>\n",
       "    <tr>\n",
       "      <th>...</th>\n",
       "      <td>...</td>\n",
       "      <td>...</td>\n",
       "      <td>...</td>\n",
       "      <td>...</td>\n",
       "    </tr>\n",
       "    <tr>\n",
       "      <th>WsQSi</th>\n",
       "      <td>417</td>\n",
       "      <td>694</td>\n",
       "      <td>376</td>\n",
       "      <td>865</td>\n",
       "    </tr>\n",
       "    <tr>\n",
       "      <th>FnHBo</th>\n",
       "      <td>524</td>\n",
       "      <td>174</td>\n",
       "      <td>967</td>\n",
       "      <td>450</td>\n",
       "    </tr>\n",
       "    <tr>\n",
       "      <th>IXqpb</th>\n",
       "      <td>444</td>\n",
       "      <td>285</td>\n",
       "      <td>942</td>\n",
       "      <td>722</td>\n",
       "    </tr>\n",
       "    <tr>\n",
       "      <th>jcEDL</th>\n",
       "      <td>540</td>\n",
       "      <td>162</td>\n",
       "      <td>118</td>\n",
       "      <td>715</td>\n",
       "    </tr>\n",
       "    <tr>\n",
       "      <th>krexL</th>\n",
       "      <td>852</td>\n",
       "      <td>322</td>\n",
       "      <td>909</td>\n",
       "      <td>498</td>\n",
       "    </tr>\n",
       "  </tbody>\n",
       "</table>\n",
       "<p>2000000 rows × 4 columns</p>\n",
       "</div>"
      ],
      "text/plain": [
       "         0    1    2    3\n",
       "UGjhR  437  270  647  870\n",
       "KEbwV  810  997  477   91\n",
       "VpcXR  904  621  683  258\n",
       "fwCKs  859  598  593  578\n",
       "wbuOM  512  677  197  505\n",
       "...    ...  ...  ...  ...\n",
       "WsQSi  417  694  376  865\n",
       "FnHBo  524  174  967  450\n",
       "IXqpb  444  285  942  722\n",
       "jcEDL  540  162  118  715\n",
       "krexL  852  322  909  498\n",
       "\n",
       "[2000000 rows x 4 columns]"
      ]
     },
     "execution_count": 31,
     "metadata": {},
     "output_type": "execute_result"
    }
   ],
   "source": [
    "key=[''.join(random.choices(string.ascii_letters, k=5)) for _ in range(2000000)]\n",
    "table=pd.DataFrame(np.random.randint(0, 1001, size=(2000000,4)), index=key)\n",
    "table"
   ]
  },
  {
   "cell_type": "code",
   "execution_count": 57,
   "metadata": {},
   "outputs": [
    {
     "data": {
      "text/plain": [
       "0    524\n",
       "1    174\n",
       "2    967\n",
       "3    450\n",
       "Name: FnHBo, dtype: int32"
      ]
     },
     "execution_count": 57,
     "metadata": {},
     "output_type": "execute_result"
    }
   ],
   "source": [
    "table.loc['FnHBo']"
   ]
  },
  {
   "cell_type": "code",
   "execution_count": 58,
   "metadata": {},
   "outputs": [
    {
     "name": "stdout",
     "output_type": "stream",
     "text": [
      "нет key, где указаны первые 5 английских букв\n"
     ]
    }
   ],
   "source": [
    "try:\n",
    "    table.loc['abcde']\n",
    "except KeyError:\n",
    "    print('нет key, где указаны первые 5 английских букв')"
   ]
  },
  {
   "cell_type": "markdown",
   "metadata": {},
   "source": [
    "## Лабораторная работа 3"
   ]
  },
  {
   "cell_type": "code",
   "execution_count": 37,
   "metadata": {},
   "outputs": [
    {
     "name": "stdout",
     "output_type": "stream",
     "text": [
      "Defaulting to user installation because normal site-packages is not writeable\n",
      "Requirement already satisfied: line_profiler in c:\\users\\admin\\appdata\\roaming\\python\\python39\\site-packages (4.0.3)\n"
     ]
    }
   ],
   "source": [
    "!pip install line_profiler"
   ]
  },
  {
   "cell_type": "code",
   "execution_count": 38,
   "metadata": {},
   "outputs": [
    {
     "name": "stdout",
     "output_type": "stream",
     "text": [
      "The line_profiler extension is already loaded. To reload it, use:\n",
      "  %reload_ext line_profiler\n"
     ]
    }
   ],
   "source": [
    "%load_ext line_profiler"
   ]
  },
  {
   "cell_type": "code",
   "execution_count": null,
   "metadata": {},
   "outputs": [],
   "source": []
  },
  {
   "cell_type": "code",
   "execution_count": 39,
   "metadata": {},
   "outputs": [],
   "source": [
    "import timeit"
   ]
  },
  {
   "cell_type": "markdown",
   "metadata": {},
   "source": [
    "1. В файлах `recipes_sample.csv` и `reviews_sample.csv` (__ЛР 2__) находится информация об рецептах блюд и отзывах на эти рецепты соответственно. Загрузите данные из файлов в виде `pd.DataFrame` с названиями `recipes` и `reviews`. Обратите внимание на корректное считывание столбца(ов) с индексами. Приведите столбцы к нужным типам.\n",
    "\n",
    "Реализуйте несколько вариантов функции подсчета среднего значения столбца `rating` из таблицы `reviews` для отзывов, оставленных в 2010 году.\n",
    "\n",
    "A. С использованием метода `DataFrame.iterrows` исходной таблицы;\n",
    "\n",
    "Б. С использованием метода `DataFrame.iterrows` таблицы, в которой сохранены только отзывы за 2010 год;\n",
    "\n",
    "В. С использованием метода `Series.mean`.\n",
    "\n",
    "Проверьте, что результаты работы всех написанных функций корректны и совпадают. Измерьте выполнения всех написанных функций.\n"
   ]
  },
  {
   "cell_type": "code",
   "execution_count": 40,
   "metadata": {},
   "outputs": [],
   "source": [
    "import pandas as pd"
   ]
  },
  {
   "cell_type": "code",
   "execution_count": 41,
   "metadata": {},
   "outputs": [],
   "source": [
    "recipes = pd.read_csv('recipes_sample.csv', delimiter=',')\n",
    "reviews = pd.read_csv('reviews_sample.csv', delimiter=',')\n",
    "reviews.rename(columns = {'Unnamed: 0':'id'}, inplace = True )\n",
    "df=pd.merge(recipes, reviews)\n",
    "df['submitted'] = pd.to_datetime(df['submitted'])"
   ]
  },
  {
   "cell_type": "code",
   "execution_count": 42,
   "metadata": {},
   "outputs": [
    {
     "data": {
      "text/html": [
       "<div>\n",
       "<style scoped>\n",
       "    .dataframe tbody tr th:only-of-type {\n",
       "        vertical-align: middle;\n",
       "    }\n",
       "\n",
       "    .dataframe tbody tr th {\n",
       "        vertical-align: top;\n",
       "    }\n",
       "\n",
       "    .dataframe thead th {\n",
       "        text-align: right;\n",
       "    }\n",
       "</style>\n",
       "<table border=\"1\" class=\"dataframe\">\n",
       "  <thead>\n",
       "    <tr style=\"text-align: right;\">\n",
       "      <th></th>\n",
       "      <th>name</th>\n",
       "      <th>id</th>\n",
       "      <th>minutes</th>\n",
       "      <th>contributor_id</th>\n",
       "      <th>submitted</th>\n",
       "      <th>n_steps</th>\n",
       "      <th>description</th>\n",
       "      <th>n_ingredients</th>\n",
       "      <th>user_id</th>\n",
       "      <th>recipe_id</th>\n",
       "      <th>date</th>\n",
       "      <th>rating</th>\n",
       "      <th>review</th>\n",
       "    </tr>\n",
       "  </thead>\n",
       "  <tbody>\n",
       "    <tr>\n",
       "      <th>0</th>\n",
       "      <td>italian  gut busters</td>\n",
       "      <td>35173</td>\n",
       "      <td>45</td>\n",
       "      <td>22724</td>\n",
       "      <td>2002-07-27</td>\n",
       "      <td>NaN</td>\n",
       "      <td>my sister-in-law made these for us at a family...</td>\n",
       "      <td>NaN</td>\n",
       "      <td>2000576480</td>\n",
       "      <td>445211</td>\n",
       "      <td>2015-10-18</td>\n",
       "      <td>1</td>\n",
       "      <td>Terrible - makes a very runny batter like for ...</td>\n",
       "    </tr>\n",
       "    <tr>\n",
       "      <th>1</th>\n",
       "      <td>say what   banana sandwich</td>\n",
       "      <td>95926</td>\n",
       "      <td>5</td>\n",
       "      <td>118163</td>\n",
       "      <td>2004-07-20</td>\n",
       "      <td>4.0</td>\n",
       "      <td>you just have to try it to believe it.</td>\n",
       "      <td>NaN</td>\n",
       "      <td>221694</td>\n",
       "      <td>126623</td>\n",
       "      <td>2009-02-01</td>\n",
       "      <td>4</td>\n",
       "      <td>This was yummy. I cut the entire sauce recipe ...</td>\n",
       "    </tr>\n",
       "    <tr>\n",
       "      <th>2</th>\n",
       "      <td>add in anything  muffins</td>\n",
       "      <td>149593</td>\n",
       "      <td>15</td>\n",
       "      <td>89831</td>\n",
       "      <td>2005-12-28</td>\n",
       "      <td>NaN</td>\n",
       "      <td>this is a never-fail muffin recipe, it's a bla...</td>\n",
       "      <td>9.0</td>\n",
       "      <td>52282</td>\n",
       "      <td>66815</td>\n",
       "      <td>2008-07-12</td>\n",
       "      <td>5</td>\n",
       "      <td>my family all enjoyed this dish, and yes it do...</td>\n",
       "    </tr>\n",
       "    <tr>\n",
       "      <th>3</th>\n",
       "      <td>burek  or feta cheese  phyllo pie</td>\n",
       "      <td>310570</td>\n",
       "      <td>65</td>\n",
       "      <td>676820</td>\n",
       "      <td>2008-06-24</td>\n",
       "      <td>38.0</td>\n",
       "      <td>ok, there are different version of burek (some...</td>\n",
       "      <td>6.0</td>\n",
       "      <td>527607</td>\n",
       "      <td>260529</td>\n",
       "      <td>2007-10-23</td>\n",
       "      <td>5</td>\n",
       "      <td>These were fantastic.  I lightened it even fur...</td>\n",
       "    </tr>\n",
       "    <tr>\n",
       "      <th>4</th>\n",
       "      <td>skordy  new potatoes w rosemary lemon   olive oi</td>\n",
       "      <td>296983</td>\n",
       "      <td>35</td>\n",
       "      <td>718054</td>\n",
       "      <td>2008-04-08</td>\n",
       "      <td>NaN</td>\n",
       "      <td>i took this recipe from a vegan tastes of gree...</td>\n",
       "      <td>6.0</td>\n",
       "      <td>795795</td>\n",
       "      <td>50385</td>\n",
       "      <td>2008-03-20</td>\n",
       "      <td>5</td>\n",
       "      <td>This recipe was WONDERFULLY DELICIOUS! The rev...</td>\n",
       "    </tr>\n",
       "    <tr>\n",
       "      <th>...</th>\n",
       "      <td>...</td>\n",
       "      <td>...</td>\n",
       "      <td>...</td>\n",
       "      <td>...</td>\n",
       "      <td>...</td>\n",
       "      <td>...</td>\n",
       "      <td>...</td>\n",
       "      <td>...</td>\n",
       "      <td>...</td>\n",
       "      <td>...</td>\n",
       "      <td>...</td>\n",
       "      <td>...</td>\n",
       "      <td>...</td>\n",
       "    </tr>\n",
       "    <tr>\n",
       "      <th>3446</th>\n",
       "      <td>zucchini meat sauce with pasta</td>\n",
       "      <td>253264</td>\n",
       "      <td>30</td>\n",
       "      <td>275742</td>\n",
       "      <td>2007-09-17</td>\n",
       "      <td>NaN</td>\n",
       "      <td>havn't tried this recipe yet but hopefully wil...</td>\n",
       "      <td>6.0</td>\n",
       "      <td>142849</td>\n",
       "      <td>102617</td>\n",
       "      <td>2007-08-01</td>\n",
       "      <td>5</td>\n",
       "      <td>This is fabulous! I do cheat however and use t...</td>\n",
       "    </tr>\n",
       "    <tr>\n",
       "      <th>3447</th>\n",
       "      <td>zucchini stuffed with feta and basil</td>\n",
       "      <td>72857</td>\n",
       "      <td>30</td>\n",
       "      <td>95743</td>\n",
       "      <td>2003-10-08</td>\n",
       "      <td>NaN</td>\n",
       "      <td>easy to make, savory and a nice presentation. ...</td>\n",
       "      <td>5.0</td>\n",
       "      <td>49937</td>\n",
       "      <td>54269</td>\n",
       "      <td>2003-04-20</td>\n",
       "      <td>5</td>\n",
       "      <td>This cake mix extender is great! I used it wit...</td>\n",
       "    </tr>\n",
       "    <tr>\n",
       "      <th>3448</th>\n",
       "      <td>zucchini tomato salsa</td>\n",
       "      <td>321224</td>\n",
       "      <td>20</td>\n",
       "      <td>464080</td>\n",
       "      <td>2008-08-25</td>\n",
       "      <td>4.0</td>\n",
       "      <td>a contest winner from taste of home.  it state...</td>\n",
       "      <td>13.0</td>\n",
       "      <td>171790</td>\n",
       "      <td>394467</td>\n",
       "      <td>2010-01-11</td>\n",
       "      <td>5</td>\n",
       "      <td>I loved this soup! The only changes I made wer...</td>\n",
       "    </tr>\n",
       "    <tr>\n",
       "      <th>3449</th>\n",
       "      <td>zucchini  potato and herb fritters</td>\n",
       "      <td>344542</td>\n",
       "      <td>30</td>\n",
       "      <td>197023</td>\n",
       "      <td>2008-12-21</td>\n",
       "      <td>8.0</td>\n",
       "      <td>adapted from a recipe in 'the australian women...</td>\n",
       "      <td>12.0</td>\n",
       "      <td>659599</td>\n",
       "      <td>222188</td>\n",
       "      <td>2013-10-15</td>\n",
       "      <td>5</td>\n",
       "      <td>So simple but yet so delicious.  I only made h...</td>\n",
       "    </tr>\n",
       "    <tr>\n",
       "      <th>3450</th>\n",
       "      <td>zwetschgenkuchen  bavarian plum cake</td>\n",
       "      <td>386977</td>\n",
       "      <td>240</td>\n",
       "      <td>177443</td>\n",
       "      <td>2009-08-24</td>\n",
       "      <td>NaN</td>\n",
       "      <td>this is a traditional fresh plum cake, thought...</td>\n",
       "      <td>11.0</td>\n",
       "      <td>102135</td>\n",
       "      <td>119490</td>\n",
       "      <td>2006-07-03</td>\n",
       "      <td>5</td>\n",
       "      <td>we love this!! i leave out the onion because i...</td>\n",
       "    </tr>\n",
       "  </tbody>\n",
       "</table>\n",
       "<p>3451 rows × 13 columns</p>\n",
       "</div>"
      ],
      "text/plain": [
       "                                                  name      id  minutes   \n",
       "0                                 italian  gut busters   35173       45  \\\n",
       "1                           say what   banana sandwich   95926        5   \n",
       "2                             add in anything  muffins  149593       15   \n",
       "3                    burek  or feta cheese  phyllo pie  310570       65   \n",
       "4     skordy  new potatoes w rosemary lemon   olive oi  296983       35   \n",
       "...                                                ...     ...      ...   \n",
       "3446                    zucchini meat sauce with pasta  253264       30   \n",
       "3447              zucchini stuffed with feta and basil   72857       30   \n",
       "3448                             zucchini tomato salsa  321224       20   \n",
       "3449                zucchini  potato and herb fritters  344542       30   \n",
       "3450              zwetschgenkuchen  bavarian plum cake  386977      240   \n",
       "\n",
       "      contributor_id  submitted  n_steps   \n",
       "0              22724 2002-07-27      NaN  \\\n",
       "1             118163 2004-07-20      4.0   \n",
       "2              89831 2005-12-28      NaN   \n",
       "3             676820 2008-06-24     38.0   \n",
       "4             718054 2008-04-08      NaN   \n",
       "...              ...        ...      ...   \n",
       "3446          275742 2007-09-17      NaN   \n",
       "3447           95743 2003-10-08      NaN   \n",
       "3448          464080 2008-08-25      4.0   \n",
       "3449          197023 2008-12-21      8.0   \n",
       "3450          177443 2009-08-24      NaN   \n",
       "\n",
       "                                            description  n_ingredients   \n",
       "0     my sister-in-law made these for us at a family...            NaN  \\\n",
       "1                you just have to try it to believe it.            NaN   \n",
       "2     this is a never-fail muffin recipe, it's a bla...            9.0   \n",
       "3     ok, there are different version of burek (some...            6.0   \n",
       "4     i took this recipe from a vegan tastes of gree...            6.0   \n",
       "...                                                 ...            ...   \n",
       "3446  havn't tried this recipe yet but hopefully wil...            6.0   \n",
       "3447  easy to make, savory and a nice presentation. ...            5.0   \n",
       "3448  a contest winner from taste of home.  it state...           13.0   \n",
       "3449  adapted from a recipe in 'the australian women...           12.0   \n",
       "3450  this is a traditional fresh plum cake, thought...           11.0   \n",
       "\n",
       "         user_id  recipe_id        date  rating   \n",
       "0     2000576480     445211  2015-10-18       1  \\\n",
       "1         221694     126623  2009-02-01       4   \n",
       "2          52282      66815  2008-07-12       5   \n",
       "3         527607     260529  2007-10-23       5   \n",
       "4         795795      50385  2008-03-20       5   \n",
       "...          ...        ...         ...     ...   \n",
       "3446      142849     102617  2007-08-01       5   \n",
       "3447       49937      54269  2003-04-20       5   \n",
       "3448      171790     394467  2010-01-11       5   \n",
       "3449      659599     222188  2013-10-15       5   \n",
       "3450      102135     119490  2006-07-03       5   \n",
       "\n",
       "                                                 review  \n",
       "0     Terrible - makes a very runny batter like for ...  \n",
       "1     This was yummy. I cut the entire sauce recipe ...  \n",
       "2     my family all enjoyed this dish, and yes it do...  \n",
       "3     These were fantastic.  I lightened it even fur...  \n",
       "4     This recipe was WONDERFULLY DELICIOUS! The rev...  \n",
       "...                                                 ...  \n",
       "3446  This is fabulous! I do cheat however and use t...  \n",
       "3447  This cake mix extender is great! I used it wit...  \n",
       "3448  I loved this soup! The only changes I made wer...  \n",
       "3449  So simple but yet so delicious.  I only made h...  \n",
       "3450  we love this!! i leave out the onion because i...  \n",
       "\n",
       "[3451 rows x 13 columns]"
      ]
     },
     "execution_count": 42,
     "metadata": {},
     "output_type": "execute_result"
    }
   ],
   "source": [
    "df\n"
   ]
  },
  {
   "cell_type": "code",
   "execution_count": 43,
   "metadata": {},
   "outputs": [
    {
     "name": "stdout",
     "output_type": "stream",
     "text": [
      " 4.371495327102804\n",
      "Время исполнения - 0.5427889999996296\n"
     ]
    }
   ],
   "source": [
    "\n",
    "#A\n",
    "def average():\n",
    "    total_rating = 0\n",
    "    count = 0\n",
    "    for index, row in df.iterrows():\n",
    "        if row['submitted'].year >= 2010:\n",
    "            total_rating += row['rating']\n",
    "            count += 1\n",
    "            average_rating = total_rating / count\n",
    "    return average_rating\n",
    "%prun av=average() \n",
    "print(av)\n",
    "execution_time=timeit.timeit(average, number=1)\n",
    "print(f'Время исполнения - {execution_time}')"
   ]
  },
  {
   "cell_type": "code",
   "execution_count": 44,
   "metadata": {},
   "outputs": [],
   "source": [
    "af2010 = df.loc[df['submitted'].dt.year >= 2010]"
   ]
  },
  {
   "cell_type": "code",
   "execution_count": 45,
   "metadata": {},
   "outputs": [
    {
     "name": "stdout",
     "output_type": "stream",
     "text": [
      " 4.371495327102804\n",
      "Время исполнения - 0.056186000000252534\n"
     ]
    }
   ],
   "source": [
    "#Б\n",
    "\n",
    "def average1():\n",
    "    total_rating = 0\n",
    "    count = 0\n",
    "    for index, row in af2010.iterrows():\n",
    "        total_rating += row['rating']\n",
    "        count += 1\n",
    "        average_rating = total_rating / count\n",
    "    return average_rating\n",
    "\n",
    "%prun av1=average1()\n",
    "print(av1)\n",
    "execution_time=timeit.timeit(average1, number=1)\n",
    "print(f'Время исполнения - {execution_time}')"
   ]
  },
  {
   "cell_type": "markdown",
   "metadata": {},
   "source": [
    "2. Какая из созданных функций выполняется медленнее? Что наиболее сильно влияет на скорость выполнения? Для ответа использовать профайлер `line_profiler`. Сохраните результаты работы профайлера в отдельную текстовую ячейку и прокомментируйте результаты его работы.\n",
    "\n",
    "(*). Сможете ли вы ускорить работу функции 1Б, отказавшись от использования метода `iterrows`, но не используя метод `mean`?"
   ]
  },
  {
   "cell_type": "code",
   "execution_count": 46,
   "metadata": {},
   "outputs": [
    {
     "name": "stdout",
     "output_type": "stream",
     "text": [
      " 4.371495327102804\n",
      "Время исполнения - 0.00023700000019744039\n"
     ]
    }
   ],
   "source": [
    "#В\n",
    "def average2():\n",
    "    return af2010['rating'].mean()\n",
    "\n",
    "%prun av2=average2()\n",
    "print(av2)\n",
    "execution_time=timeit.timeit(average2, number=1)\n",
    "print(f'Время исполнения - {execution_time}')"
   ]
  },
  {
   "cell_type": "markdown",
   "metadata": {},
   "source": [
    "3. Вам предлагается воспользоваться функцией, которая собирает статистику о том, сколько отзывов содержат то или иное слово. Измерьте время выполнения этой функции. Сможете ли вы найти узкие места в коде, используя профайлер? Выпишите (словами), что в имеющемся коде реализовано неоптимально. Оптимизируйте функцию и добейтесь значительного (как минимум, на один порядок) прироста в скорости выполнения."
   ]
  },
  {
   "cell_type": "code",
   "execution_count": 47,
   "metadata": {},
   "outputs": [
    {
     "name": "stdout",
     "output_type": "stream",
     "text": [
      " "
     ]
    }
   ],
   "source": [
    "def get_word_reviews_count(df):\n",
    "    word_reviews = {}\n",
    "    for _, row in df.dropna(subset=['review']).iterrows():\n",
    "        recipe_id, review = row['recipe_id'], row['review']\n",
    "        words = review.split(' ')\n",
    "        for word in words:\n",
    "            if word not in word_reviews:\n",
    "                word_reviews[word] = []\n",
    "            word_reviews[word].append(recipe_id)\n",
    "    \n",
    "    word_reviews_count = {}\n",
    "    for _, row in df.dropna(subset=['review']).iterrows():\n",
    "        review = row['review']\n",
    "        words = review.split(' ')\n",
    "        for word in words:\n",
    "            word_reviews_count[word] = len(word_reviews[word])\n",
    "    return word_reviews_count\n",
    "\n",
    "%prun get_word_reviews_count(af2010)"
   ]
  },
  {
   "cell_type": "code",
   "execution_count": 48,
   "metadata": {},
   "outputs": [
    {
     "name": "stdout",
     "output_type": "stream",
     "text": [
      " "
     ]
    }
   ],
   "source": [
    "from collections import defaultdict\n",
    "\n",
    "def get_word_reviews_count(df):\n",
    "    word_reviews_count = defaultdict(list)\n",
    "    \n",
    "    for _, row in df.dropna(subset=['review']).iterrows():\n",
    "        review = row['review']\n",
    "        words = review.split(' ')\n",
    "        unique_words = set(words)  # Используем множество для поиска уникальных слов\n",
    "        \n",
    "        for word in unique_words:\n",
    "            word_reviews_count[word].append(row['recipe_id'])\n",
    "    \n",
    "    return word_reviews_count\n",
    "\n",
    "%prun get_word_reviews_count(af2010)"
   ]
  },
  {
   "cell_type": "code",
   "execution_count": null,
   "metadata": {},
   "outputs": [],
   "source": []
  },
  {
   "cell_type": "code",
   "execution_count": null,
   "metadata": {},
   "outputs": [],
   "source": []
  },
  {
   "cell_type": "code",
   "execution_count": 10,
   "metadata": {},
   "outputs": [],
   "source": [
    "def get_word_reviews_count(df):\n",
    "    word_reviews = {}\n",
    "    for _, row in df.dropna(subset=['review']).iterrows():\n",
    "        recipe_id, review = row['recipe_id'], row['review']\n",
    "        words = review.split(' ')\n",
    "        for word in words:\n",
    "            if word not in word_reviews:\n",
    "                word_reviews[word] = []\n",
    "            word_reviews[word].append(recipe_id)\n",
    "    \n",
    "    word_reviews_count = {}\n",
    "    for _, row in df.dropna(subset=['review']).iterrows():\n",
    "        review = row['review']\n",
    "        words = review.split(' ')\n",
    "        for word in words:\n",
    "            word_reviews_count[word] = len(word_reviews[word])\n",
    "    return word_reviews_count"
   ]
  },
  {
   "cell_type": "markdown",
   "metadata": {},
   "source": [
    "4. Напишите несколько версий функции `MAPE` (см. [MAPE](https://en.wikipedia.org/wiki/Mean_absolute_percentage_error)) для расчета среднего абсолютного процентного отклонения значения рейтинга отзыва на рецепт от среднего значения рейтинга по всем отзывам для этого рецепта. \n",
    "    1. Без использования векторизованных операций и методов массивов `numpy` и без использования `numba`\n",
    "    2. Без использования векторизованных операций и методов массивов `numpy`, но с использованием `numba`\n",
    "    3. С использованием векторизованных операций и методов массивов `numpy`, но без использования `numba`\n",
    "    4. C использованием векторизованных операций и методов массивов `numpy` и `numba`\n",
    "    \n",
    "Измерьте время выполнения каждой из реализаций.\n",
    "\n",
    "Замечание: удалите из выборки отзывы с нулевым рейтингом.\n"
   ]
  },
  {
   "cell_type": "code",
   "execution_count": 49,
   "metadata": {},
   "outputs": [],
   "source": [
    "import numba\n",
    "import numpy as np"
   ]
  },
  {
   "cell_type": "code",
   "execution_count": 50,
   "metadata": {},
   "outputs": [],
   "source": [
    "import time"
   ]
  },
  {
   "cell_type": "code",
   "execution_count": 51,
   "metadata": {},
   "outputs": [],
   "source": [
    "df=df.loc[df['rating'] > 0]"
   ]
  },
  {
   "cell_type": "code",
   "execution_count": 52,
   "metadata": {},
   "outputs": [
    {
     "name": "stdout",
     "output_type": "stream",
     "text": [
      "CPU times: total: 31.2 ms\n",
      "Wall time: 23.9 ms\n"
     ]
    },
    {
     "data": {
      "text/plain": [
       "0.11138533165746958"
      ]
     },
     "execution_count": 52,
     "metadata": {},
     "output_type": "execute_result"
    }
   ],
   "source": [
    "#A\n",
    "def mape_basic(df):\n",
    "    ratings = df['rating'].values\n",
    "    mean_rating = sum(ratings) / len(ratings)\n",
    "    mape_sum = 0\n",
    "    \n",
    "    for rating in ratings:\n",
    "        mape_sum += abs((rating - mean_rating) / mean_rating)\n",
    "    \n",
    "    mape = mape_sum / len(ratings)\n",
    "    return mape\n",
    "\n",
    "%time mape_basic(df)"
   ]
  },
  {
   "cell_type": "code",
   "execution_count": 53,
   "metadata": {},
   "outputs": [
    {
     "name": "stdout",
     "output_type": "stream",
     "text": [
      "CPU times: total: 516 ms\n",
      "Wall time: 987 ms\n"
     ]
    },
    {
     "data": {
      "text/plain": [
       "0.11138533165746958"
      ]
     },
     "execution_count": 53,
     "metadata": {},
     "output_type": "execute_result"
    }
   ],
   "source": [
    "#B\n",
    "@numba.njit\n",
    "def mape_numba(ratings):\n",
    "    n = len(ratings)\n",
    "    mean_rating = 0.0\n",
    "    mape_sum = 0.0\n",
    "    \n",
    "    for i in range(n):\n",
    "        rating = ratings[i]\n",
    "        mean_rating += rating\n",
    "    \n",
    "    mean_rating /= n\n",
    "    \n",
    "    for i in range(n):\n",
    "        rating = ratings[i]\n",
    "        mape_sum += abs((rating - mean_rating) / mean_rating)\n",
    "    \n",
    "    mape = mape_sum / n\n",
    "    return mape\n",
    "\n",
    "%time mape_numba(df['rating'].values)"
   ]
  },
  {
   "cell_type": "code",
   "execution_count": 54,
   "metadata": {},
   "outputs": [
    {
     "name": "stdout",
     "output_type": "stream",
     "text": [
      "CPU times: total: 0 ns\n",
      "Wall time: 0 ns\n"
     ]
    },
    {
     "data": {
      "text/plain": [
       "0.11138533165746735"
      ]
     },
     "execution_count": 54,
     "metadata": {},
     "output_type": "execute_result"
    }
   ],
   "source": [
    "#C\n",
    "def mape_numpy(df):\n",
    "    ratings = df['rating'].values\n",
    "    mean_rating = np.mean(ratings)\n",
    "    mape_sum = np.sum(np.abs((ratings - mean_rating) / mean_rating))\n",
    "    mape = mape_sum / len(ratings)\n",
    "    return mape\n",
    "\n",
    "%time mape_numpy(df)"
   ]
  },
  {
   "cell_type": "code",
   "execution_count": 55,
   "metadata": {},
   "outputs": [
    {
     "name": "stdout",
     "output_type": "stream",
     "text": [
      "CPU times: total: 422 ms\n",
      "Wall time: 490 ms\n"
     ]
    },
    {
     "data": {
      "text/plain": [
       "0.11138533165746958"
      ]
     },
     "execution_count": 55,
     "metadata": {},
     "output_type": "execute_result"
    }
   ],
   "source": [
    "#D\n",
    "@numba.njit\n",
    "def mape_np_numba(ratings):\n",
    "    mean_rating = np.mean(ratings)\n",
    "    mape_sum = 0\n",
    "    \n",
    "    for rating in ratings:\n",
    "        mape_sum += abs((rating - mean_rating) / mean_rating)\n",
    "    \n",
    "    mape = mape_sum / len(ratings)\n",
    "    return mape\n",
    "%time mape_np_numba(df['rating'].values)"
   ]
  },
  {
   "cell_type": "markdown",
   "metadata": {},
   "source": [
    "#### [версия 2]\n",
    "* Уточнены формулировки задач 1, 3, 4"
   ]
  },
  {
   "cell_type": "code",
   "execution_count": null,
   "metadata": {},
   "outputs": [],
   "source": []
  }
 ],
 "metadata": {
  "kernelspec": {
   "display_name": "Python 3 (ipykernel)",
   "language": "python",
   "name": "python3"
  },
  "language_info": {
   "codemirror_mode": {
    "name": "ipython",
    "version": 3
   },
   "file_extension": ".py",
   "mimetype": "text/x-python",
   "name": "python",
   "nbconvert_exporter": "python",
   "pygments_lexer": "ipython3",
   "version": "3.9.12"
  }
 },
 "nbformat": 4,
 "nbformat_minor": 4
}
